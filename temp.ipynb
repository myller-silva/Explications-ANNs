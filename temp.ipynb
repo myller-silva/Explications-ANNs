{
 "cells": [
  {
   "cell_type": "code",
   "execution_count": 1,
   "metadata": {},
   "outputs": [],
   "source": [
    "import matplotlib.pyplot as plt\n",
    "import matplotlib.patches as patches\n",
    "import pandas as pd\n",
    "\n",
    "# todo: tirar o dataframe e receber apenas a instancia\n",
    "def show_image_with_explanation(\n",
    "    df: pd.DataFrame, instancia_index: int, explanation: list\n",
    "):\n",
    "    instancia_values = df.iloc[instancia_index, :-1].values\n",
    "\n",
    "    instancia = instancia_values.reshape(8, 8)\n",
    "\n",
    "    fig, ax = plt.subplots()\n",
    "\n",
    "    ax.imshow(instancia, cmap=\"gray\")\n",
    "    \n",
    "    if(explanation):\n",
    "        coordinates_explanation = explanation\n",
    "\n",
    "        for x, y in coordinates_explanation:\n",
    "            x = x - 0.5  # deslocar para alinhar\n",
    "            y = y - 0.5\n",
    "            width = height = 1\n",
    "\n",
    "            rect = patches.Rectangle(\n",
    "                (x, y), width, height, linewidth=1, edgecolor=\"r\", facecolor=\"none\"\n",
    "            )\n",
    "            ax.add_patch(rect)\n",
    "\n",
    "    plt.show()"
   ]
  },
  {
   "cell_type": "code",
   "execution_count": 28,
   "metadata": {},
   "outputs": [],
   "source": [
    "teste_df = pd.read_csv(\n",
    "    \"resultados\\datasets\\digits\\models\\model_1layers_20neurons.h5\\df.csv\"\n",
    ")\n",
    "data = pd.read_csv()\n",
    "index = 15\n",
    "instancia_df = teste_df.iloc[index]"
   ]
  },
  {
   "cell_type": "code",
   "execution_count": 39,
   "metadata": {},
   "outputs": [
    {
     "ename": "AttributeError",
     "evalue": "'int' object has no attribute 'notify_used'",
     "output_type": "error",
     "traceback": [
      "\u001b[1;31m---------------------------------------------------------------------------\u001b[0m",
      "\u001b[1;31mAttributeError\u001b[0m                            Traceback (most recent call last)",
      "Cell \u001b[1;32mIn[39], line 9\u001b[0m\n\u001b[0;32m      5\u001b[0m model \u001b[38;5;241m=\u001b[39m Model()\n\u001b[0;32m      7\u001b[0m \u001b[38;5;66;03m# Simulando uma explicação com objetos LinearConstraint\u001b[39;00m\n\u001b[0;32m      8\u001b[0m explicacao \u001b[38;5;241m=\u001b[39m [\n\u001b[1;32m----> 9\u001b[0m     \u001b[43mLinearConstraint\u001b[49m\u001b[43m(\u001b[49m\u001b[43mmodel\u001b[49m\u001b[43m,\u001b[49m\u001b[43m \u001b[49m\u001b[38;5;241;43m1\u001b[39;49m\u001b[43m,\u001b[49m\u001b[43m \u001b[49m\u001b[38;5;124;43m\"\u001b[39;49m\u001b[38;5;124;43mEQ\u001b[39;49m\u001b[38;5;124;43m\"\u001b[39;49m\u001b[43m,\u001b[49m\u001b[43m \u001b[49m\u001b[38;5;241;43m2\u001b[39;49m\u001b[43m)\u001b[49m,  \u001b[38;5;66;03m# Exemplo de uma restrição linear\u001b[39;00m\n\u001b[0;32m     10\u001b[0m     LinearConstraint(model, \u001b[38;5;241m1\u001b[39m, \u001b[38;5;124m\"\u001b[39m\u001b[38;5;124mLE\u001b[39m\u001b[38;5;124m\"\u001b[39m, \u001b[38;5;241m2\u001b[39m),  \u001b[38;5;66;03m# Outro exemplo de restrição linear\u001b[39;00m\n\u001b[0;32m     11\u001b[0m     \u001b[38;5;66;03m# Adicione mais restrições lineares conforme necessário\u001b[39;00m\n\u001b[0;32m     12\u001b[0m ]\n",
      "File \u001b[1;32mc:\\Python311\\Lib\\site-packages\\docplex\\mp\\constr.py:467\u001b[0m, in \u001b[0;36mLinearConstraint.__init__\u001b[1;34m(self, model, left_expr, ctsense, right_expr, name)\u001b[0m\n\u001b[0;32m    465\u001b[0m \u001b[38;5;28;01mdef\u001b[39;00m \u001b[38;5;21m__init__\u001b[39m(\u001b[38;5;28mself\u001b[39m, model, left_expr, ctsense, right_expr, name\u001b[38;5;241m=\u001b[39m\u001b[38;5;28;01mNone\u001b[39;00m):\n\u001b[0;32m    466\u001b[0m     BinaryConstraint\u001b[38;5;241m.\u001b[39m\u001b[38;5;21m__init__\u001b[39m(\u001b[38;5;28mself\u001b[39m, model, left_expr, ctsense, right_expr, name)\n\u001b[1;32m--> 467\u001b[0m     \u001b[43mleft_expr\u001b[49m\u001b[38;5;241;43m.\u001b[39;49m\u001b[43mnotify_used\u001b[49m(\u001b[38;5;28mself\u001b[39m)\n\u001b[0;32m    468\u001b[0m     right_expr\u001b[38;5;241m.\u001b[39mnotify_used(\u001b[38;5;28mself\u001b[39m)\n",
      "\u001b[1;31mAttributeError\u001b[0m: 'int' object has no attribute 'notify_used'"
     ]
    }
   ],
   "source": [
    "instancia_df"
   ]
  },
  {
   "cell_type": "code",
   "execution_count": 36,
   "metadata": {},
   "outputs": [
    {
     "data": {
      "image/png": "[encoded data removed]",
      "text/plain": [
       "<Figure size 640x480 with 1 Axes>"
      ]
     },
     "metadata": {},
     "output_type": "display_data"
    }
   ],
   "source": [
    "import ast\n",
    "\n",
    "def string_to_list(string): \n",
    "    return ast.literal_eval(string)\n"
   ]
  },
  {
   "cell_type": "code",
   "execution_count": null,
   "metadata": {},
   "outputs": [],
   "source": [
    "explanation = instancia_df[\"explanation\"]\n",
    "show_image_with_explanation(\n",
    "    df=data,\n",
    "    instancia_index=instancia_df[\"instance_index\"],\n",
    "    explanation=string_to_list(explanation) if explanation is not None else [],\n",
    ")"
   ]
  }
 ],
 "metadata": {
  "kernelspec": {
   "display_name": "Python 3",
   "language": "python",
   "name": "python3"
  },
  "language_info": {
   "codemirror_mode": {
    "name": "ipython",
    "version": 3
   },
   "file_extension": ".py",
   "mimetype": "text/x-python",
   "name": "python",
   "nbconvert_exporter": "python",
   "pygments_lexer": "ipython3",
   "version": "3.11.4"
  }
 },
 "nbformat": 4,
 "nbformat_minor": 2
}
